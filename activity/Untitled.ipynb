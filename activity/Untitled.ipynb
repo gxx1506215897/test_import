{
 "cells": [
  {
   "cell_type": "code",
   "execution_count": 2,
   "id": "b60caa9a-a724-4255-9138-1430f9f5a45b",
   "metadata": {},
   "outputs": [
    {
     "name": "stdout",
     "output_type": "stream",
     "text": [
      "x = 1。\n"
     ]
    }
   ],
   "source": [
    "x = 1\n",
    "print(\"x = %d。\"%x)"
   ]
  },
  {
   "cell_type": "code",
   "execution_count": null,
   "id": "08b396a7-79cb-4ce7-934b-70fd46994a9a",
   "metadata": {},
   "outputs": [],
   "source": []
  }
 ],
 "metadata": {
  "kernelspec": {
   "display_name": "Python 3",
   "language": "python",
   "name": "python3"
  },
  "language_info": {
   "codemirror_mode": {
    "name": "ipython",
    "version": 3
   },
   "file_extension": ".py",
   "mimetype": "text/x-python",
   "name": "python",
   "nbconvert_exporter": "python",
   "pygments_lexer": "ipython3",
   "version": "3.8.8"
  }
 },
 "nbformat": 4,
 "nbformat_minor": 5
}
